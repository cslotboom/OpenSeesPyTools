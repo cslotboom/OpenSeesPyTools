{
 "cells": [
  {
   "cell_type": "markdown",
   "metadata": {},
   "source": [
    "# Plot Model Displacement\n",
    "\n",
    "To plot the displacement.\n",
    "\n",
    "To you will have to call the 'PrintNodes' and 'PrintElements' function while the model has been created. You will also have to create a recorder that contains all of the output displacements."
   ]
  },
  {
   "cell_type": "code",
   "execution_count": 5,
   "metadata": {},
   "outputs": [
    {
     "ename": "TypeError",
     "evalue": "printNodes() missing 1 required positional argument: 'FileName'",
     "output_type": "error",
     "traceback": [
      "\u001b[1;31m---------------------------------------------------------------------------\u001b[0m",
      "\u001b[1;31mTypeError\u001b[0m                                 Traceback (most recent call last)",
      "\u001b[1;32m<ipython-input-5-86a412d1dc52>\u001b[0m in \u001b[0;36m<module>\u001b[1;34m\u001b[0m\n\u001b[0;32m     10\u001b[0m \u001b[1;33m\u001b[0m\u001b[0m\n\u001b[0;32m     11\u001b[0m \u001b[1;33m\u001b[0m\u001b[0m\n\u001b[1;32m---> 12\u001b[1;33m \u001b[0mopp\u001b[0m\u001b[1;33m.\u001b[0m\u001b[0mprintNodes\u001b[0m\u001b[1;33m(\u001b[0m\u001b[1;33m)\u001b[0m\u001b[1;33m\u001b[0m\u001b[1;33m\u001b[0m\u001b[0m\n\u001b[0m\u001b[0;32m     13\u001b[0m \u001b[1;33m\u001b[0m\u001b[0m\n\u001b[0;32m     14\u001b[0m \u001b[1;31m# Create a recoder\u001b[0m\u001b[1;33m\u001b[0m\u001b[1;33m\u001b[0m\u001b[1;33m\u001b[0m\u001b[0m\n",
      "\u001b[1;31mTypeError\u001b[0m: printNodes() missing 1 required positional argument: 'FileName'"
     ]
    }
   ],
   "source": [
    "import openseespy.opensees as op\n",
    "import openseesplt.openseesplt as opp\n",
    "\n",
    "NodeFileOutputName = 'nodes.csv'\n",
    "ElementFileOutputName = 'Elements.csv'\n",
    "AnalysisName = 'your name for analysis goes here'\n",
    "\n",
    "\n",
    "\"\"\" Code that generates model goes here \"\"\"\n",
    "\n",
    "\n",
    "opp.printNodes(NodeFileOutputName)\n",
    "opp.printNodes(ElementFileOutputName)\n",
    "\n",
    "# Create a recoder\n",
    "op.recorder( 'Node' , '-file' , AnalysisName + '_ALL_DISP.out' , '-time' ,'-dof', 1,  2,  3 , 'disp')  \n",
    "\n",
    "\n",
    "\n",
    "\"\"\" Code that runs analysis goes here\"\"\"\n"
   ]
  },
  {
   "cell_type": "code",
   "execution_count": null,
   "metadata": {},
   "outputs": [],
   "source": []
  }
 ],
 "metadata": {
  "kernelspec": {
   "display_name": "Python 3",
   "language": "python",
   "name": "python3"
  },
  "language_info": {
   "codemirror_mode": {
    "name": "ipython",
    "version": 3
   },
   "file_extension": ".py",
   "mimetype": "text/x-python",
   "name": "python",
   "nbconvert_exporter": "python",
   "pygments_lexer": "ipython3",
   "version": "3.7.7"
  }
 },
 "nbformat": 4,
 "nbformat_minor": 4
}
